{
 "cells": [
  {
   "cell_type": "code",
   "execution_count": 1,
   "source": [
    "import torch\n",
    "from torch import nn\n",
    "from torch.utils.data import DataLoader\n",
    "from torchvision import datasets\n",
    "from torchvision.transforms import ToTensor\n",
    "from kmnist_torch import train, test\n",
    "\n",
    "\n",
    "class CNN(nn.Module):\n",
    "    def __init__(self):\n",
    "        super().__init__()\n",
    "        self.conv_ReLU_stack = nn.Sequential(\n",
    "            nn.Conv2d(1, 10, 3),\n",
    "            nn.ReLU(),\n",
    "            nn.Conv2d(10, 20, 3),\n",
    "            nn.ReLU(),\n",
    "            nn.MaxPool2d(2, 2),\n",
    "            nn.Dropout2d(0.2),\n",
    "            nn.Flatten(),\n",
    "            nn.Linear(2880, 100),\n",
    "            nn.Linear(100, 10)\n",
    "        )\n",
    "\n",
    "    def forward(self, x):\n",
    "        out = self.conv_ReLU_stack(x)\n",
    "        return out\n",
    "\n",
    "\n",
    "if __name__ == \"__main__\":\n",
    "    device = \"cuda\" if torch.cuda.is_available() else \"cpu\"\n",
    "\n",
    "    training_data = datasets.KMNIST(\n",
    "        root=\"D:\\ProgramData\\data\", train=True, download=False, transform=ToTensor()\n",
    "    )\n",
    "\n",
    "    test_data = datasets.KMNIST(\n",
    "        root=\"D:\\ProgramData\\data\", train=False, download=False, transform=ToTensor()\n",
    "    )\n",
    "\n",
    "    batch_size = 128\n",
    "\n",
    "    train_dataloader = DataLoader(\n",
    "        training_data,  # 数据集对象，如 torch.utils.data.Dataset 的实例\n",
    "        batch_size=batch_size,  # 批次大小，即每次加载的样本数\n",
    "        shuffle=True,  # 是否在每个 epoch 时对数据进行洗牌\n",
    "        pin_memory=True,  # 是否将加载的数据放入 CUDA 固定内存中（适用于 GPU 训练）\n",
    "    )\n",
    "\n",
    "    test_dataloader = DataLoader(test_data, batch_size=batch_size)\n",
    "\n",
    "    mymodel = CNN().to(device)\n",
    "    loss_fn = nn.CrossEntropyLoss()\n",
    "    optimizer = torch.optim.Adam(mymodel.parameters(),lr=1e-3)\n",
    "\n",
    "    epochs = 10\n",
    "    for epoch in range(epochs):\n",
    "        print(f\"Epoch {epoch}\\n-------------------------------\")\n",
    "        train(train_dataloader, mymodel, loss_fn, optimizer, device)\n",
    "    test_loss, correct = test(test_dataloader, mymodel, loss_fn, device)\n",
    "    print(\n",
    "        f\"Test Error: \\n Accuracy: {(100*correct):>0.1f}%, Avg loss: {test_loss:>8f} \\n\"  # noqa: E501\n",
    "    )\n",
    "    torch.save(mymodel, \"models/kmnist_conv.pth\")"
   ],
   "outputs": [
    {
     "output_type": "stream",
     "name": "stdout",
     "text": [
      "Epoch 0\n",
      "-------------------------------\n"
     ]
    },
    {
     "output_type": "stream",
     "name": "stderr",
     "text": [
      "batch:  468 loss:0.219636: 100%|██████████| 469/469 [00:16<00:00, 28.42it/s]\n"
     ]
    },
    {
     "output_type": "stream",
     "name": "stdout",
     "text": [
      "Epoch 1\n",
      "-------------------------------\n"
     ]
    },
    {
     "output_type": "stream",
     "name": "stderr",
     "text": [
      "batch:  468 loss:0.184688: 100%|██████████| 469/469 [00:13<00:00, 34.72it/s]\n"
     ]
    },
    {
     "output_type": "stream",
     "name": "stdout",
     "text": [
      "Epoch 2\n",
      "-------------------------------\n"
     ]
    },
    {
     "output_type": "stream",
     "name": "stderr",
     "text": [
      "batch:  468 loss:0.098934: 100%|██████████| 469/469 [00:14<00:00, 33.44it/s]\n"
     ]
    },
    {
     "output_type": "stream",
     "name": "stdout",
     "text": [
      "Epoch 3\n",
      "-------------------------------\n"
     ]
    },
    {
     "output_type": "stream",
     "name": "stderr",
     "text": [
      "batch:  468 loss:0.084039: 100%|██████████| 469/469 [00:15<00:00, 30.21it/s]\n"
     ]
    },
    {
     "output_type": "stream",
     "name": "stdout",
     "text": [
      "Epoch 4\n",
      "-------------------------------\n"
     ]
    },
    {
     "output_type": "stream",
     "name": "stderr",
     "text": [
      "batch:  468 loss:0.118031: 100%|██████████| 469/469 [00:15<00:00, 30.29it/s]\n"
     ]
    },
    {
     "output_type": "stream",
     "name": "stdout",
     "text": [
      "Epoch 5\n",
      "-------------------------------\n"
     ]
    },
    {
     "output_type": "stream",
     "name": "stderr",
     "text": [
      "batch:  468 loss:0.103665: 100%|██████████| 469/469 [00:15<00:00, 30.26it/s]\n"
     ]
    },
    {
     "output_type": "stream",
     "name": "stdout",
     "text": [
      "Epoch 6\n",
      "-------------------------------\n"
     ]
    },
    {
     "output_type": "stream",
     "name": "stderr",
     "text": [
      "batch:  468 loss:0.090585: 100%|██████████| 469/469 [00:15<00:00, 30.52it/s]\n"
     ]
    },
    {
     "output_type": "stream",
     "name": "stdout",
     "text": [
      "Epoch 7\n",
      "-------------------------------\n"
     ]
    },
    {
     "output_type": "stream",
     "name": "stderr",
     "text": [
      "batch:  468 loss:0.110246: 100%|██████████| 469/469 [00:15<00:00, 30.52it/s]\n"
     ]
    },
    {
     "output_type": "stream",
     "name": "stdout",
     "text": [
      "Epoch 8\n",
      "-------------------------------\n"
     ]
    },
    {
     "output_type": "stream",
     "name": "stderr",
     "text": [
      "batch:  468 loss:0.159863: 100%|██████████| 469/469 [00:15<00:00, 30.89it/s]\n"
     ]
    },
    {
     "output_type": "stream",
     "name": "stdout",
     "text": [
      "Epoch 9\n",
      "-------------------------------\n"
     ]
    },
    {
     "output_type": "stream",
     "name": "stderr",
     "text": [
      "batch:  468 loss:0.223231: 100%|██████████| 469/469 [00:15<00:00, 31.13it/s]\n"
     ]
    },
    {
     "output_type": "stream",
     "name": "stdout",
     "text": [
      "Test Error: \n",
      " Accuracy: 90.6%, Avg loss: 0.352820 \n",
      "\n"
     ]
    }
   ],
   "metadata": {}
  },
  {
   "cell_type": "code",
   "execution_count": 2,
   "source": [
    "import torch\n",
    "from torch import nn\n",
    "from torch.utils.data import DataLoader\n",
    "from torchvision import datasets\n",
    "from torchvision.transforms import ToTensor\n",
    "from kmnist_torch import train, test\n",
    "\n",
    "\n",
    "class CNN(nn.Module):\n",
    "    def __init__(self):\n",
    "        super().__init__()\n",
    "        self.conv_ReLU_stack = nn.Sequential(\n",
    "            nn.Conv2d(1, 10, 3),\n",
    "            nn.ReLU(),\n",
    "            nn.Conv2d(10, 20, 3),\n",
    "            nn.ReLU(),\n",
    "            nn.MaxPool2d(2, 2),\n",
    "            nn.Dropout2d(0.2),\n",
    "            nn.Flatten(),\n",
    "            nn.Linear(2880, 100),\n",
    "            nn.ReLU(),\n",
    "            nn.Linear(100, 10)\n",
    "        )\n",
    "\n",
    "    def forward(self, x):\n",
    "        out = self.conv_ReLU_stack(x)\n",
    "        return out\n",
    "\n",
    "\n",
    "if __name__ == \"__main__\":\n",
    "    device = \"cuda\" if torch.cuda.is_available() else \"cpu\"\n",
    "\n",
    "    training_data = datasets.KMNIST(\n",
    "        root=\"D:\\ProgramData\\data\", train=True, download=False, transform=ToTensor()\n",
    "    )\n",
    "\n",
    "    test_data = datasets.KMNIST(\n",
    "        root=\"D:\\ProgramData\\data\", train=False, download=False, transform=ToTensor()\n",
    "    )\n",
    "\n",
    "    batch_size = 128\n",
    "\n",
    "    train_dataloader = DataLoader(\n",
    "        training_data,  # 数据集对象，如 torch.utils.data.Dataset 的实例\n",
    "        batch_size=batch_size,  # 批次大小，即每次加载的样本数\n",
    "        shuffle=True,  # 是否在每个 epoch 时对数据进行洗牌\n",
    "        pin_memory=True,  # 是否将加载的数据放入 CUDA 固定内存中（适用于 GPU 训练）\n",
    "    )\n",
    "\n",
    "    test_dataloader = DataLoader(test_data, batch_size=batch_size)\n",
    "\n",
    "    mymodel = CNN().to(device)\n",
    "    loss_fn = nn.CrossEntropyLoss()\n",
    "    optimizer = torch.optim.Adam(mymodel.parameters(),lr=1e-3)\n",
    "\n",
    "    epochs = 10\n",
    "    for epoch in range(epochs):\n",
    "        print(f\"Epoch {epoch}\\n-------------------------------\")\n",
    "        train(train_dataloader, mymodel, loss_fn, optimizer, device)\n",
    "    test_loss, correct = test(test_dataloader, mymodel, loss_fn, device)\n",
    "    print(\n",
    "        f\"Test Error: \\n Accuracy: {(100*correct):>0.1f}%, Avg loss: {test_loss:>8f} \\n\"  # noqa: E501\n",
    "    )\n",
    "    torch.save(mymodel, \"models/kmnist_conv.pth\")"
   ],
   "outputs": [
    {
     "output_type": "stream",
     "name": "stdout",
     "text": [
      "Epoch 0\n",
      "-------------------------------\n"
     ]
    },
    {
     "output_type": "stream",
     "name": "stderr",
     "text": [
      "batch:  468 loss:0.208484: 100%|██████████| 469/469 [00:15<00:00, 30.99it/s]\n"
     ]
    },
    {
     "output_type": "stream",
     "name": "stdout",
     "text": [
      "Epoch 1\n",
      "-------------------------------\n"
     ]
    },
    {
     "output_type": "stream",
     "name": "stderr",
     "text": [
      "batch:  468 loss:0.144177: 100%|██████████| 469/469 [00:15<00:00, 30.26it/s]\n"
     ]
    },
    {
     "output_type": "stream",
     "name": "stdout",
     "text": [
      "Epoch 2\n",
      "-------------------------------\n"
     ]
    },
    {
     "output_type": "stream",
     "name": "stderr",
     "text": [
      "batch:  468 loss:0.062993: 100%|██████████| 469/469 [00:15<00:00, 30.42it/s]\n"
     ]
    },
    {
     "output_type": "stream",
     "name": "stdout",
     "text": [
      "Epoch 3\n",
      "-------------------------------\n"
     ]
    },
    {
     "output_type": "stream",
     "name": "stderr",
     "text": [
      "batch:  468 loss:0.114966: 100%|██████████| 469/469 [00:15<00:00, 30.46it/s]\n"
     ]
    },
    {
     "output_type": "stream",
     "name": "stdout",
     "text": [
      "Epoch 4\n",
      "-------------------------------\n"
     ]
    },
    {
     "output_type": "stream",
     "name": "stderr",
     "text": [
      "batch:  468 loss:0.121821: 100%|██████████| 469/469 [00:15<00:00, 30.19it/s]\n"
     ]
    },
    {
     "output_type": "stream",
     "name": "stdout",
     "text": [
      "Epoch 5\n",
      "-------------------------------\n"
     ]
    },
    {
     "output_type": "stream",
     "name": "stderr",
     "text": [
      "batch:  468 loss:0.089038: 100%|██████████| 469/469 [00:15<00:00, 29.94it/s]\n"
     ]
    },
    {
     "output_type": "stream",
     "name": "stdout",
     "text": [
      "Epoch 6\n",
      "-------------------------------\n"
     ]
    },
    {
     "output_type": "stream",
     "name": "stderr",
     "text": [
      "batch:  468 loss:0.036908: 100%|██████████| 469/469 [00:15<00:00, 30.41it/s]\n"
     ]
    },
    {
     "output_type": "stream",
     "name": "stdout",
     "text": [
      "Epoch 7\n",
      "-------------------------------\n"
     ]
    },
    {
     "output_type": "stream",
     "name": "stderr",
     "text": [
      "batch:  468 loss:0.029416: 100%|██████████| 469/469 [00:15<00:00, 30.40it/s]\n"
     ]
    },
    {
     "output_type": "stream",
     "name": "stdout",
     "text": [
      "Epoch 8\n",
      "-------------------------------\n"
     ]
    },
    {
     "output_type": "stream",
     "name": "stderr",
     "text": [
      "batch:  468 loss:0.082431: 100%|██████████| 469/469 [00:15<00:00, 30.85it/s]\n"
     ]
    },
    {
     "output_type": "stream",
     "name": "stdout",
     "text": [
      "Epoch 9\n",
      "-------------------------------\n"
     ]
    },
    {
     "output_type": "stream",
     "name": "stderr",
     "text": [
      "batch:  468 loss:0.026051: 100%|██████████| 469/469 [00:15<00:00, 30.83it/s]\n"
     ]
    },
    {
     "output_type": "stream",
     "name": "stdout",
     "text": [
      "Test Error: \n",
      " Accuracy: 94.0%, Avg loss: 0.304280 \n",
      "\n"
     ]
    }
   ],
   "metadata": {}
  }
 ],
 "nbformat": 4,
 "nbformat_minor": 2,
 "metadata": {
  "language_info": {
   "codemirror_mode": {
    "name": "ipython",
    "version": 3
   },
   "file_extension": ".py",
   "mimetype": "text/x-python",
   "name": "python",
   "nbconvert_exporter": "python",
   "pygments_lexer": "ipython3",
   "version": 3
  },
  "orig_nbformat": 4
 }
}
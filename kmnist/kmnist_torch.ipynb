{
 "cells": [
  {
   "cell_type": "markdown",
   "id": "9812ff0e",
   "metadata": {},
   "source": [
    "from torchvision.datasets import FashionMNIST\n",
    "import matplotlib.pyplot as plt"
   ]
  },
  {
   "cell_type": "code",
   "execution_count": 11,
   "id": "f09f6b7b",
   "metadata": {},
   "outputs": [],
   "source": [
    "import torch\n",
    "from torch import nn\n",
    "from torch.utils.data import DataLoader\n",
    "from torchvision import datasets\n",
    "from torchvision.transforms import ToTensor, Lambda, Compose\n",
    "import matplotlib.pyplot as plt"
   ]
  },
  {
   "cell_type": "markdown",
   "id": "c56bfe6c",
   "metadata": {},
   "source": [
    "## 加载样本数据datasets"
   ]
  },
  {
   "cell_type": "code",
   "execution_count": 12,
   "id": "95401f03",
   "metadata": {},
   "outputs": [],
   "source": [
    "# 下载的数据集文件默认保存到当前用户工作目录的data子目录中。\n",
    "# 下载路径：root\n",
    "# 例如\"D:\\\\datasets\\\\fashionMNIST\\\\\"一类的绝对路径\n",
    "training_data = datasets.KMNIST(\n",
    "    root=\"data\",\n",
    "    train=True,\n",
    "    download=False,\n",
    "    transform=ToTensor(),\n",
    ")\n",
    "\n",
    "\n",
    "test_data = datasets.KMNIST(\n",
    "    root=\"data\",\n",
    "    train=False,\n",
    "    download=False,\n",
    "    transform=ToTensor(),\n",
    ")"
   ]
  },
  {
   "cell_type": "markdown",
   "id": "6945a3de",
   "metadata": {},
   "source": [
    "## 创建数据加载器DataLoader"
   ]
  },
  {
   "cell_type": "code",
   "execution_count": 13,
   "id": "5ebe4e1b",
   "metadata": {},
   "outputs": [],
   "source": [
    "batch_size = 128\n",
    "\n",
    "train_dataloader = DataLoader(\n",
    "    training_data,                # 数据集对象，如 torch.utils.data.Dataset 的实例\n",
    "    batch_size=batch_size,           # 批次大小，即每次加载的样本数\n",
    "    shuffle=True,          # 是否在每个 epoch 时对数据进行洗牌\n",
    "    pin_memory=True,       # 是否将加载的数据放入 CUDA 固定内存中（适用于 GPU 训练）\n",
    ")\n",
    "\n",
    "test_dataloader = DataLoader(test_data, batch_size = batch_size)\n"
   ]
  },
  {
   "cell_type": "markdown",
   "id": "ab2e83cb",
   "metadata": {},
   "source": [
    "## 构建模型"
   ]
  },
  {
   "cell_type": "code",
   "execution_count": 14,
   "id": "a70d7b83",
   "metadata": {},
   "outputs": [
    {
     "name": "stdout",
     "output_type": "stream",
     "text": [
      "尊敬的主人mgzn，这是您使用的设备：cuda\n"
     ]
    }
   ],
   "source": [
    "# 检验可以使用的设备\n",
    "device = \"cuda\" if torch.cuda.is_available() else \"cpu\"\n",
    "print(f\"尊敬的主人mgzn，这是您使用的设备：{device}\")\n",
    "\n",
    "# 定义神经网络模型\n",
    "\n",
    "class NeuralNetwork(nn.Module):\n",
    "    \n",
    "    def __init__(self, input_size, hidden_size, num_classes):\n",
    "        super(NeuralNetwork, self).__init__()\n",
    "        self.flatten = nn.Flatten()  # 实例化终极降维操作层\n",
    "        self.linear_relu_stack = nn.Sequential(\n",
    "            nn.Linear(input_size, hidden_size),  # 隐藏层的线性单元\n",
    "            nn.ReLU(),  # 隐藏层的非线性单元\n",
    "            nn.Linear(hidden_size, hidden_size),\n",
    "            nn.ReLU(),\n",
    "            nn.Linear(hidden_size, num_classes)  # 输出层\n",
    "        )\n",
    "\n",
    "    def forward(self, x):\n",
    "        x = self.flatten(x)  # 应用终极降维\n",
    "        out = self.linear_relu_stack(x)\n",
    "        return out"
   ]
  },
  {
   "cell_type": "code",
   "execution_count": 15,
   "id": "d21df184",
   "metadata": {},
   "outputs": [],
   "source": [
    "mymodel = NeuralNetwork(28*28, 512, 10).to(device)  # 转到gpu"
   ]
  },
  {
   "cell_type": "markdown",
   "id": "31b595ae",
   "metadata": {},
   "source": [
    "## 定制模型损失器和优化器"
   ]
  },
  {
   "cell_type": "code",
   "execution_count": 16,
   "id": "f0ead347",
   "metadata": {},
   "outputs": [],
   "source": [
    "loss_fn = nn.CrossEntropyLoss()\n",
    "optimizer = torch.optim.SGD(mymodel.parameters(), lr=1e-3)"
   ]
  },
  {
   "cell_type": "code",
   "execution_count": 17,
   "id": "f3e69114",
   "metadata": {},
   "outputs": [],
   "source": [
    "def train(dataloader, model, loss_fn, optimizer):\n",
    "    size = len(dataloader.dataset)  # 训练数据样本总量\n",
    "    model.train() # 设置模型为训练模式\n",
    "    for batch, (X, y) in enumerate(dataloader):\n",
    "        X, y = X.to(device), y.to(device)  # 张量加载到设备\n",
    "\n",
    "        # 计算预测的误差\n",
    "        pred = model(X)  # 调用模型获得结果(forward时被自动调用)\n",
    "        loss = loss_fn(pred, y) # 计算损失\n",
    "\n",
    "        # 反向传播 Backpropagation\n",
    "        model.zero_grad() # 重置模型中参数的梯度值为0\n",
    "        loss.backward() # 计算梯度\n",
    "        optimizer.step() # 更新模型中参数的梯度值\n",
    "\n",
    "        if batch % 100 == 0:\n",
    "            loss, current = loss.item(), batch * len(X)\n",
    "            print(f\"loss: {loss:>7f}  [{current:>5d}/{size:>5d}]\")\n",
    "            \n",
    "def test(dataloader, model, loss_fn):\n",
    "    size = len(dataloader.dataset)\n",
    "    num_batches = len(dataloader)\n",
    "    model.eval()  # 模型设置为评估模式，代码等效于 model.train(False)\n",
    "    test_loss, correct = 0, 0\n",
    "    with torch.no_grad():\n",
    "        for X, y in dataloader:\n",
    "            X, y = X.to(device), y.to(device)\n",
    "            pred = model(X)\n",
    "            test_loss += loss_fn(pred, y).item()\n",
    "            correct += (pred.argmax(1) == y).type(torch.float).sum().item()\n",
    "    test_loss /= num_batches\n",
    "    correct /= size\n",
    "    print(f\"Test Error: \\n Accuracy: {(100*correct):>0.1f}%, Avg loss: {test_loss:>8f} \\n\")"
   ]
  },
  {
   "cell_type": "code",
   "execution_count": 18,
   "id": "ac06479f",
   "metadata": {},
   "outputs": [
    {
     "name": "stdout",
     "output_type": "stream",
     "text": [
      "Epoch 1\n",
      "-------------------------------\n",
      "loss: 2.307994  [    0/60000]\n",
      "loss: 2.302721  [12800/60000]\n",
      "loss: 2.296095  [25600/60000]\n",
      "loss: 2.293462  [38400/60000]\n",
      "loss: 2.282622  [51200/60000]\n",
      "Test Error: \n",
      " Accuracy: 13.8%, Avg loss: 2.291210 \n",
      "\n",
      "Epoch 2\n",
      "-------------------------------\n",
      "loss: 2.286281  [    0/60000]\n",
      "loss: 2.280024  [12800/60000]\n",
      "loss: 2.277463  [25600/60000]\n",
      "loss: 2.271767  [38400/60000]\n",
      "loss: 2.267806  [51200/60000]\n",
      "Test Error: \n",
      " Accuracy: 25.7%, Avg loss: 2.276479 \n",
      "\n",
      "Epoch 3\n",
      "-------------------------------\n",
      "loss: 2.272929  [    0/60000]\n",
      "loss: 2.255563  [12800/60000]\n",
      "loss: 2.254886  [25600/60000]\n",
      "loss: 2.244553  [38400/60000]\n",
      "loss: 2.237803  [51200/60000]\n",
      "Test Error: \n",
      " Accuracy: 34.2%, Avg loss: 2.258971 \n",
      "\n",
      "Epoch 4\n",
      "-------------------------------\n",
      "loss: 2.233953  [    0/60000]\n",
      "loss: 2.239178  [12800/60000]\n",
      "loss: 2.226703  [25600/60000]\n",
      "loss: 2.224773  [38400/60000]\n",
      "loss: 2.202664  [51200/60000]\n",
      "Test Error: \n",
      " Accuracy: 38.0%, Avg loss: 2.236762 \n",
      "\n",
      "Epoch 5\n",
      "-------------------------------\n",
      "loss: 2.190814  [    0/60000]\n",
      "loss: 2.210771  [12800/60000]\n",
      "loss: 2.201285  [25600/60000]\n",
      "loss: 2.171387  [38400/60000]\n",
      "loss: 2.175342  [51200/60000]\n",
      "Test Error: \n",
      " Accuracy: 39.1%, Avg loss: 2.207611 \n",
      "\n",
      "训练完成!\n"
     ]
    }
   ],
   "source": [
    "epochs = 20\n",
    "for t in range(epochs):\n",
    "    print(f\"Epoch {t+1}\\n-------------------------------\")\n",
    "    train(train_dataloader, mymodel, loss_fn, optimizer)\n",
    "    test(test_dataloader, mymodel, loss_fn)\n",
    "print(\"训练完成!\")"
   ]
  }
 ],
 "metadata": {
  "kernelspec": {
   "display_name": "Python (myenv)",
   "language": "python",
   "name": "myenv"
  },
  "language_info": {
   "codemirror_mode": {
    "name": "ipython",
    "version": 3
   },
   "file_extension": ".py",
   "mimetype": "text/x-python",
   "name": "python",
   "nbconvert_exporter": "python",
   "pygments_lexer": "ipython3",
   "version": "3.11.3"
  }
 },
 "nbformat": 4,
 "nbformat_minor": 5
}

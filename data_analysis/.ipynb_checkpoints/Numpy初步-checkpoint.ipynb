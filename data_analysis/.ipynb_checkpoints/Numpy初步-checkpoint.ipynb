{
 "cells": [
  {
   "cell_type": "markdown",
   "id": "a1b126b7",
   "metadata": {},
   "source": [
    "## numpy数组构建"
   ]
  },
  {
   "cell_type": "code",
   "execution_count": 2,
   "id": "0152039a",
   "metadata": {},
   "outputs": [],
   "source": [
    "import numpy as np"
   ]
  },
  {
   "cell_type": "code",
   "execution_count": 3,
   "id": "e0bc84f7",
   "metadata": {},
   "outputs": [
    {
     "name": "stdout",
     "output_type": "stream",
     "text": [
      "[1, 2, 3, 4, 5, 6, 7, 8, 9, 10]\n",
      "[ 1  2  3  4  5  6  7  8  9 10]\n"
     ]
    }
   ],
   "source": [
    "# 数组\n",
    "lst = list(range(1,11))\n",
    "print(lst)\n",
    "# np方法对比\n",
    "arr = np.array(lst)\n",
    "print(arr)"
   ]
  },
  {
   "cell_type": "code",
   "execution_count": 4,
   "id": "6874e1a2",
   "metadata": {},
   "outputs": [
    {
     "data": {
      "text/plain": [
       "array([[1, 2, 3],\n",
       "       [4, 5, 6],\n",
       "       [7, 8, 9]])"
      ]
     },
     "execution_count": 4,
     "metadata": {},
     "output_type": "execute_result"
    }
   ],
   "source": [
    "# N维数组\n",
    "lst = [[1,2,3],[4,5,6],[7,8,9]]\n",
    "arr = np.array(lst)\n",
    "arr"
   ]
  },
  {
   "cell_type": "code",
   "execution_count": 7,
   "id": "66976fbe",
   "metadata": {},
   "outputs": [
    {
     "name": "stdout",
     "output_type": "stream",
     "text": [
      "5\n",
      "2 5 8\n",
      "5\n",
      "[[1 2 3]]\n",
      "[[1 2]\n",
      " [4 5]\n",
      " [7 8]]\n"
     ]
    }
   ],
   "source": [
    "# 高维数组检索\n",
    "print(lst[1][1])\n",
    "print(lst[0][1],lst[1][1],lst[2][1])\n",
    "print(arr[1,1])\n",
    "print(arr[:1])\n",
    "print(arr[:,0:2])"
   ]
  },
  {
   "cell_type": "markdown",
   "id": "8f97f8ad",
   "metadata": {},
   "source": [
    "## 数组构建其他方式"
   ]
  },
  {
   "cell_type": "code",
   "execution_count": 10,
   "id": "37fd9f19",
   "metadata": {},
   "outputs": [
    {
     "name": "stdout",
     "output_type": "stream",
     "text": [
      "[ 1  2  3  4  5  6  7  8  9 10]\n",
      "[0. 0. 0. 0. 0. 0. 0. 0. 0. 0.]\n",
      "[1. 1. 1. 1. 1. 1. 1. 1. 1. 1.]\n",
      "[-0.67126895  1.82409446 -0.29092266  0.55013627 -0.65132228 -0.0767453\n",
      "  1.66869709 -0.73222014  0.47376707  0.7587347 ]\n",
      "[0.04704246 0.73421176 0.69317717 0.35651522 0.86669658 0.75446859\n",
      " 0.97770073 0.93253991 0.7578657  0.17236544]\n"
     ]
    }
   ],
   "source": [
    "arr1 = np.arange(1,11)  # 序列创建\n",
    "arr2 = np.zeros (10)  # 指定大小全零数组\n",
    "arr3 = np.ones(10)\n",
    "arr4 = np.random.normal(size = 10)  # 指定大小正态分布随机值\n",
    "arr5 = np.random.random(size = 10)  # 指定大小0~1分布随机值\n",
    "\n",
    "print(arr1)\n",
    "print(arr2)\n",
    "print(arr3)\n",
    "print(arr4)\n",
    "print(arr5)"
   ]
  },
  {
   "cell_type": "markdown",
   "id": "6d707ee9",
   "metadata": {},
   "source": [
    "查看numpy文档 numpy.org/doc"
   ]
  },
  {
   "cell_type": "code",
   "execution_count": 11,
   "id": "753eea62",
   "metadata": {},
   "outputs": [
    {
     "data": {
      "text/plain": [
       "numpy.ndarray"
      ]
     },
     "execution_count": 11,
     "metadata": {},
     "output_type": "execute_result"
    }
   ],
   "source": [
    "type(arr1)"
   ]
  },
  {
   "cell_type": "code",
   "execution_count": 15,
   "id": "7669d77a",
   "metadata": {},
   "outputs": [
    {
     "data": {
      "text/plain": [
       "numpy.ndarray"
      ]
     },
     "execution_count": 15,
     "metadata": {},
     "output_type": "execute_result"
    }
   ],
   "source": [
    "# pandas中数据和numpy关联\n",
    "import pandas as pd\n",
    "df = pd.DataFrame([1,2],[3,4])\n",
    "type(df.values)"
   ]
  },
  {
   "cell_type": "markdown",
   "id": "6d3f2364",
   "metadata": {},
   "source": [
    "## 数组常用方法属性"
   ]
  },
  {
   "cell_type": "code",
   "execution_count": 27,
   "id": "f4603039",
   "metadata": {},
   "outputs": [
    {
     "name": "stdout",
     "output_type": "stream",
     "text": [
      "[[-0.67126895  1.82409446 -0.29092266  0.55013627 -0.65132228]\n",
      " [-0.0767453   1.66869709 -0.73222014  0.47376707  0.7587347 ]]\n",
      "(2, 5)\n",
      "(2, 1, 1, 1, 1, 5)\n",
      "(5, 2)\n"
     ]
    },
    {
     "data": {
      "text/plain": [
       "array([-0.67126895,  1.82409446, -0.29092266,  0.55013627, -0.65132228,\n",
       "       -0.0767453 ,  1.66869709, -0.73222014,  0.47376707,  0.7587347 ])"
      ]
     },
     "execution_count": 27,
     "metadata": {},
     "output_type": "execute_result"
    }
   ],
   "source": [
    "# 修改数组维度\n",
    "arr4 = arr4.reshape(2,5)\n",
    "print(arr4)\n",
    "# 查看维度值\n",
    "print(arr4.shape)\n",
    "# 增加维度\n",
    "# arr4 = arr4[:,np.newaxis]  # = arr4[:,np.newaxis,:]\n",
    "arr4 = arr4.reshape(2,1,1,1,1,5)  # 相乘等于数据总量\n",
    "print(arr4.shape)\n",
    "# 任意高维数据转换1维\n",
    "arr4 = arr4.reshape(-1,2)  # -1 系统动态判断\n",
    "print(arr4.shape)\n",
    "arr4 = arr4.reshape(-1)  # 默认展开为1维\n",
    "arr4"
   ]
  },
  {
   "cell_type": "code",
   "execution_count": 25,
   "id": "e232919b",
   "metadata": {},
   "outputs": [
    {
     "data": {
      "text/plain": [
       "array([[[-0.67126895,  1.82409446, -0.29092266,  0.55013627,\n",
       "         -0.65132228]],\n",
       "\n",
       "       [[-0.0767453 ,  1.66869709, -0.73222014,  0.47376707,\n",
       "          0.7587347 ]]])"
      ]
     },
     "execution_count": 25,
     "metadata": {},
     "output_type": "execute_result"
    }
   ],
   "source": [
    "arr4"
   ]
  },
  {
   "cell_type": "markdown",
   "id": "a5125dbe",
   "metadata": {},
   "source": [
    "任何高维度的数据，每个维度上都存在对应的含义。\n",
    "\n",
    "例如：地址信息 - 北京市，海淀区，……"
   ]
  },
  {
   "cell_type": "code",
   "execution_count": 34,
   "id": "ff98eb59",
   "metadata": {},
   "outputs": [
    {
     "data": {
      "text/plain": [
       "array([[-0.67126895, -0.29092266],\n",
       "       [-0.65132228,  1.66869709],\n",
       "       [ 0.47376707,  1.82409446],\n",
       "       [ 0.55013627, -0.0767453 ],\n",
       "       [-0.73222014,  0.7587347 ]])"
      ]
     },
     "execution_count": 34,
     "metadata": {},
     "output_type": "execute_result"
    }
   ],
   "source": [
    "# 维度转置\n",
    "arr4 = arr4.reshape(2,5)\n",
    "# arr4 = np.transpose(arr4)\n",
    "arr4 = arr4.T\n",
    "arr4"
   ]
  },
  {
   "cell_type": "markdown",
   "id": "2a55bd36",
   "metadata": {},
   "source": [
    "### 数组运算"
   ]
  },
  {
   "cell_type": "code",
   "execution_count": 35,
   "id": "403284b6",
   "metadata": {},
   "outputs": [
    {
     "name": "stdout",
     "output_type": "stream",
     "text": [
      "[[1. 2. 3.]\n",
      " [4. 5. 6.]]\n"
     ]
    },
    {
     "data": {
      "text/plain": [
       "array([[ 7.,  9., 11.],\n",
       "       [ 7.,  9., 11.],\n",
       "       [ 7.,  9., 11.]])"
      ]
     },
     "execution_count": 35,
     "metadata": {},
     "output_type": "execute_result"
    }
   ],
   "source": [
    "arr1 = np.arange(1,7).reshape(2,3)\n",
    "arr2 = np.ones((2,3))\n",
    "\n",
    "# 加法\n",
    "arr3 = arr1 + arr2\n",
    "arr3\n",
    "# 乘法\n",
    "arr4 = arr1 * arr2\n",
    "print(arr4)\n",
    "\n",
    "# dot 点积\n",
    "\"\"\"\n",
    "矩阵1逐行的元素 乘 矩阵2逐列的元素 结果值总和\n",
    "[\n",
    " [1,1]\n",
    " [1,1]\n",
    " [1,1]\n",
    " ]\n",
    "\n",
    " [\n",
    "  [2,3,4]\n",
    "  [5,6,7]\n",
    " ]\n",
    " \n",
    " dot\n",
    " [1*2 + 1*5], [1*3 + 1*6], [1*4 + 1*7] = [7,9,11]\n",
    " ...\n",
    " ...\n",
    " \n",
    "\"\"\"\n",
    "\n",
    "arr5 = np.dot(arr2.T,arr3)\n",
    "arr5\n",
    "# dot 两个矩阵，前面矩阵最后维度值 == 后面矩阵第一维度值\n",
    "# 结果：前矩阵的第一维度，后矩阵的最后维度"
   ]
  },
  {
   "cell_type": "markdown",
   "id": "2c35077e",
   "metadata": {},
   "source": [
    "### ndarray广播\n",
    "由低维度自动向高维度广播"
   ]
  },
  {
   "cell_type": "code",
   "execution_count": 37,
   "id": "3ebaf551",
   "metadata": {},
   "outputs": [
    {
     "name": "stdout",
     "output_type": "stream",
     "text": [
      "[[3 4 5]\n",
      " [3 4 5]]\n"
     ]
    }
   ],
   "source": [
    "arr6 = np.array([[1,2,3],[1,2,3]])\n",
    "print(arr6 + 2)\n",
    "# 计算过程 [[1,2,3],[1,2,3]] + [[2,2,2],[2,2,2]]"
   ]
  },
  {
   "cell_type": "code",
   "execution_count": 40,
   "id": "1d597b17",
   "metadata": {},
   "outputs": [
    {
     "ename": "ValueError",
     "evalue": "operands could not be broadcast together with shapes (3,2) (1,3) ",
     "output_type": "error",
     "traceback": [
      "\u001b[1;31m---------------------------------------------------------------------------\u001b[0m",
      "\u001b[1;31mValueError\u001b[0m                                Traceback (most recent call last)",
      "Cell \u001b[1;32mIn[40], line 3\u001b[0m\n\u001b[0;32m      1\u001b[0m arr6 \u001b[38;5;241m=\u001b[39m np\u001b[38;5;241m.\u001b[39marray([[\u001b[38;5;241m1\u001b[39m,\u001b[38;5;241m1\u001b[39m],[\u001b[38;5;241m2\u001b[39m,\u001b[38;5;241m2\u001b[39m],[\u001b[38;5;241m3\u001b[39m,\u001b[38;5;241m3\u001b[39m]])\n\u001b[0;32m      2\u001b[0m arr7 \u001b[38;5;241m=\u001b[39m np\u001b[38;5;241m.\u001b[39marray([[\u001b[38;5;241m1\u001b[39m,\u001b[38;5;241m1\u001b[39m,\u001b[38;5;241m1\u001b[39m]])\n\u001b[1;32m----> 3\u001b[0m \u001b[43marr6\u001b[49m\u001b[43m \u001b[49m\u001b[38;5;241;43m+\u001b[39;49m\u001b[43m \u001b[49m\u001b[43marr7\u001b[49m\n",
      "\u001b[1;31mValueError\u001b[0m: operands could not be broadcast together with shapes (3,2) (1,3) "
     ]
    }
   ],
   "source": [
    "arr6 = np.array([[1,1],[2,2],[3,3]])\n",
    "arr7 = np.array([[1,1,1]])\n",
    "arr6 + arr7"
   ]
  },
  {
   "cell_type": "code",
   "execution_count": 41,
   "id": "46c22612",
   "metadata": {},
   "outputs": [
    {
     "data": {
      "text/plain": [
       "array([[2, 2],\n",
       "       [3, 3],\n",
       "       [4, 4]])"
      ]
     },
     "execution_count": 41,
     "metadata": {},
     "output_type": "execute_result"
    }
   ],
   "source": [
    "arr6 + arr7.T"
   ]
  },
  {
   "cell_type": "markdown",
   "id": "42a198e9",
   "metadata": {},
   "source": [
    "两个矩阵通过扩容（copy）后，首尾对齐进行按位运算"
   ]
  },
  {
   "cell_type": "code",
   "execution_count": null,
   "id": "2fba8ff3",
   "metadata": {},
   "outputs": [],
   "source": []
  }
 ],
 "metadata": {
  "kernelspec": {
   "display_name": "Python 3 (ipykernel)",
   "language": "python",
   "name": "python3"
  },
  "language_info": {
   "codemirror_mode": {
    "name": "ipython",
    "version": 3
   },
   "file_extension": ".py",
   "mimetype": "text/x-python",
   "name": "python",
   "nbconvert_exporter": "python",
   "pygments_lexer": "ipython3",
   "version": "3.10.9"
  }
 },
 "nbformat": 4,
 "nbformat_minor": 5
}

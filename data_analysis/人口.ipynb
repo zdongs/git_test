{
 "cells": [
  {
   "cell_type": "code",
   "execution_count": 1,
   "id": "dec891c5",
   "metadata": {},
   "outputs": [],
   "source": [
    "import pandas as pd\n",
    "import numpy as np\n",
    "import matplotlib.pyplot as plt\n",
    "\n",
    "from sklearn.preprocessing import LabelEncoder  # 预处理包中的标签编码器"
   ]
  },
  {
   "cell_type": "code",
   "execution_count": 6,
   "id": "d21e71f5",
   "metadata": {},
   "outputs": [
    {
     "name": "stderr",
     "output_type": "stream",
     "text": [
      "C:\\Users\\zdong\\AppData\\Local\\Temp\\ipykernel_2320\\1608127637.py:1: ParserWarning: Falling back to the 'python' engine because the 'c' engine does not support regex separators (separators > 1 char and different from '\\s+' are interpreted as regex); you can avoid this warning by specifying engine='python'.\n",
      "  df = pd.read_csv('adult.data',\n"
     ]
    }
   ],
   "source": [
    "df = pd.read_csv('adult.data',\n",
    "                sep = ', ',\n",
    "                #header=None,\n",
    "                #index_col = False,\n",
    "                names = ['age', 'workclass', 'fnlwgt', 'education', 'education_num', 'marital_status', 'occupation', 'relationship', 'race', 'sex', 'capital_gain', 'capital_loss', 'hours_per_week', 'native_country','income'],\n",
    "                #engine='python',\n",
    "                )  # 使用python引擎，因为默认的c引擎不支持使用正则表达式分隔符"
   ]
  },
  {
   "cell_type": "code",
   "execution_count": 7,
   "id": "4be327db",
   "metadata": {},
   "outputs": [
    {
     "data": {
      "text/html": [
       "<div>\n",
       "<style scoped>\n",
       "    .dataframe tbody tr th:only-of-type {\n",
       "        vertical-align: middle;\n",
       "    }\n",
       "\n",
       "    .dataframe tbody tr th {\n",
       "        vertical-align: top;\n",
       "    }\n",
       "\n",
       "    .dataframe thead th {\n",
       "        text-align: right;\n",
       "    }\n",
       "</style>\n",
       "<table border=\"1\" class=\"dataframe\">\n",
       "  <thead>\n",
       "    <tr style=\"text-align: right;\">\n",
       "      <th></th>\n",
       "      <th>age</th>\n",
       "      <th>workclass</th>\n",
       "      <th>fnlwgt</th>\n",
       "      <th>education</th>\n",
       "      <th>education_num</th>\n",
       "      <th>marital_status</th>\n",
       "      <th>occupation</th>\n",
       "      <th>relationship</th>\n",
       "      <th>race</th>\n",
       "      <th>sex</th>\n",
       "      <th>capital_gain</th>\n",
       "      <th>capital_loss</th>\n",
       "      <th>hours_per_week</th>\n",
       "      <th>native_country</th>\n",
       "      <th>income</th>\n",
       "    </tr>\n",
       "  </thead>\n",
       "  <tbody>\n",
       "    <tr>\n",
       "      <th>0</th>\n",
       "      <td>39</td>\n",
       "      <td>State-gov</td>\n",
       "      <td>77516</td>\n",
       "      <td>Bachelors</td>\n",
       "      <td>13</td>\n",
       "      <td>Never-married</td>\n",
       "      <td>Adm-clerical</td>\n",
       "      <td>Not-in-family</td>\n",
       "      <td>White</td>\n",
       "      <td>Male</td>\n",
       "      <td>2174</td>\n",
       "      <td>0</td>\n",
       "      <td>40</td>\n",
       "      <td>United-States</td>\n",
       "      <td>&lt;=50K</td>\n",
       "    </tr>\n",
       "    <tr>\n",
       "      <th>1</th>\n",
       "      <td>50</td>\n",
       "      <td>Self-emp-not-inc</td>\n",
       "      <td>83311</td>\n",
       "      <td>Bachelors</td>\n",
       "      <td>13</td>\n",
       "      <td>Married-civ-spouse</td>\n",
       "      <td>Exec-managerial</td>\n",
       "      <td>Husband</td>\n",
       "      <td>White</td>\n",
       "      <td>Male</td>\n",
       "      <td>0</td>\n",
       "      <td>0</td>\n",
       "      <td>13</td>\n",
       "      <td>United-States</td>\n",
       "      <td>&lt;=50K</td>\n",
       "    </tr>\n",
       "    <tr>\n",
       "      <th>2</th>\n",
       "      <td>38</td>\n",
       "      <td>Private</td>\n",
       "      <td>215646</td>\n",
       "      <td>HS-grad</td>\n",
       "      <td>9</td>\n",
       "      <td>Divorced</td>\n",
       "      <td>Handlers-cleaners</td>\n",
       "      <td>Not-in-family</td>\n",
       "      <td>White</td>\n",
       "      <td>Male</td>\n",
       "      <td>0</td>\n",
       "      <td>0</td>\n",
       "      <td>40</td>\n",
       "      <td>United-States</td>\n",
       "      <td>&lt;=50K</td>\n",
       "    </tr>\n",
       "    <tr>\n",
       "      <th>3</th>\n",
       "      <td>53</td>\n",
       "      <td>Private</td>\n",
       "      <td>234721</td>\n",
       "      <td>11th</td>\n",
       "      <td>7</td>\n",
       "      <td>Married-civ-spouse</td>\n",
       "      <td>Handlers-cleaners</td>\n",
       "      <td>Husband</td>\n",
       "      <td>Black</td>\n",
       "      <td>Male</td>\n",
       "      <td>0</td>\n",
       "      <td>0</td>\n",
       "      <td>40</td>\n",
       "      <td>United-States</td>\n",
       "      <td>&lt;=50K</td>\n",
       "    </tr>\n",
       "    <tr>\n",
       "      <th>4</th>\n",
       "      <td>28</td>\n",
       "      <td>Private</td>\n",
       "      <td>338409</td>\n",
       "      <td>Bachelors</td>\n",
       "      <td>13</td>\n",
       "      <td>Married-civ-spouse</td>\n",
       "      <td>Prof-specialty</td>\n",
       "      <td>Wife</td>\n",
       "      <td>Black</td>\n",
       "      <td>Female</td>\n",
       "      <td>0</td>\n",
       "      <td>0</td>\n",
       "      <td>40</td>\n",
       "      <td>Cuba</td>\n",
       "      <td>&lt;=50K</td>\n",
       "    </tr>\n",
       "  </tbody>\n",
       "</table>\n",
       "</div>"
      ],
      "text/plain": [
       "   age         workclass  fnlwgt  education  education_num  \\\n",
       "0   39         State-gov   77516  Bachelors             13   \n",
       "1   50  Self-emp-not-inc   83311  Bachelors             13   \n",
       "2   38           Private  215646    HS-grad              9   \n",
       "3   53           Private  234721       11th              7   \n",
       "4   28           Private  338409  Bachelors             13   \n",
       "\n",
       "       marital_status         occupation   relationship   race     sex  \\\n",
       "0       Never-married       Adm-clerical  Not-in-family  White    Male   \n",
       "1  Married-civ-spouse    Exec-managerial        Husband  White    Male   \n",
       "2            Divorced  Handlers-cleaners  Not-in-family  White    Male   \n",
       "3  Married-civ-spouse  Handlers-cleaners        Husband  Black    Male   \n",
       "4  Married-civ-spouse     Prof-specialty           Wife  Black  Female   \n",
       "\n",
       "   capital_gain  capital_loss  hours_per_week native_country income  \n",
       "0          2174             0              40  United-States  <=50K  \n",
       "1             0             0              13  United-States  <=50K  \n",
       "2             0             0              40  United-States  <=50K  \n",
       "3             0             0              40  United-States  <=50K  \n",
       "4             0             0              40           Cuba  <=50K  "
      ]
     },
     "execution_count": 7,
     "metadata": {},
     "output_type": "execute_result"
    }
   ],
   "source": [
    "df.head()"
   ]
  },
  {
   "cell_type": "code",
   "execution_count": 4,
   "id": "ba5a8ef4",
   "metadata": {},
   "outputs": [],
   "source": [
    "#df.shape"
   ]
  },
  {
   "cell_type": "code",
   "execution_count": 5,
   "id": "1e965c31",
   "metadata": {},
   "outputs": [
    {
     "name": "stdout",
     "output_type": "stream",
     "text": [
      "<class 'pandas.core.frame.DataFrame'>\n",
      "RangeIndex: 32561 entries, 0 to 32560\n",
      "Data columns (total 15 columns):\n",
      " #   Column          Non-Null Count  Dtype \n",
      "---  ------          --------------  ----- \n",
      " 0   age             32561 non-null  int64 \n",
      " 1   workclass       32561 non-null  object\n",
      " 2   fnlwgt          32561 non-null  int64 \n",
      " 3   education       32561 non-null  object\n",
      " 4   education_num   32561 non-null  int64 \n",
      " 5   marital_status  32561 non-null  object\n",
      " 6   occupation      32561 non-null  object\n",
      " 7   relationship    32561 non-null  object\n",
      " 8   race            32561 non-null  object\n",
      " 9   sex             32561 non-null  object\n",
      " 10  capital_gain    32561 non-null  int64 \n",
      " 11  capital_loss    32561 non-null  int64 \n",
      " 12  hours_per_week  32561 non-null  int64 \n",
      " 13  native_country  32561 non-null  object\n",
      " 14  income          32561 non-null  object\n",
      "dtypes: int64(6), object(9)\n",
      "memory usage: 3.7+ MB\n"
     ]
    }
   ],
   "source": [
    "df.info()"
   ]
  },
  {
   "cell_type": "code",
   "execution_count": 6,
   "id": "6ba57ce0",
   "metadata": {},
   "outputs": [],
   "source": [
    "#df.columns"
   ]
  },
  {
   "cell_type": "code",
   "execution_count": 7,
   "id": "6061e22b",
   "metadata": {
    "scrolled": true
   },
   "outputs": [],
   "source": [
    "#df.value_counts()"
   ]
  },
  {
   "cell_type": "code",
   "execution_count": 8,
   "id": "ed370a7a",
   "metadata": {},
   "outputs": [],
   "source": [
    "# df.describe(include='all')"
   ]
  },
  {
   "cell_type": "code",
   "execution_count": 9,
   "id": "08bb659c",
   "metadata": {},
   "outputs": [],
   "source": [
    "#df.hist(bins = 50,color = 'red',figsize=(20,15))"
   ]
  },
  {
   "cell_type": "code",
   "execution_count": 10,
   "id": "ec7f96ed",
   "metadata": {},
   "outputs": [
    {
     "data": {
      "text/plain": [
       "0        0\n",
       "1        0\n",
       "2        0\n",
       "3        0\n",
       "4        0\n",
       "        ..\n",
       "32556    0\n",
       "32557    1\n",
       "32558    0\n",
       "32559    0\n",
       "32560    1\n",
       "Name: income, Length: 32561, dtype: int64"
      ]
     },
     "execution_count": 10,
     "metadata": {},
     "output_type": "execute_result"
    }
   ],
   "source": [
    "df['income'] = df['income'].map({'<=50K':0,'>50K':1})\n",
    "df['income']"
   ]
  },
  {
   "cell_type": "code",
   "execution_count": 11,
   "id": "673e0107",
   "metadata": {},
   "outputs": [],
   "source": [
    "# !pip install sweetviz"
   ]
  },
  {
   "cell_type": "code",
   "execution_count": 12,
   "id": "74993fe3",
   "metadata": {},
   "outputs": [],
   "source": [
    "# import sweetviz as sv\n",
    "# import warnings\n",
    "# warnings.filterwarnings('ignore')  # 不显示警告\n",
    "\n",
    "# my_report = sv.analyze(df,target_feat = 'income')\n",
    "# my_report.show_html()"
   ]
  },
  {
   "cell_type": "code",
   "execution_count": 13,
   "id": "dfab0fae",
   "metadata": {},
   "outputs": [],
   "source": [
    "df.drop_duplicates(inplace=True)"
   ]
  },
  {
   "cell_type": "code",
   "execution_count": 14,
   "id": "b55b6cc5",
   "metadata": {},
   "outputs": [],
   "source": [
    "df.query('workclass != \"?\" & occupation !=\"?\" & native_country != \"?\"',inplace=True)"
   ]
  },
  {
   "cell_type": "code",
   "execution_count": 15,
   "id": "9f52cfd6",
   "metadata": {},
   "outputs": [
    {
     "data": {
      "text/plain": [
       "0"
      ]
     },
     "execution_count": 15,
     "metadata": {},
     "output_type": "execute_result"
    }
   ],
   "source": [
    "df.duplicated().sum()"
   ]
  },
  {
   "cell_type": "code",
   "execution_count": 16,
   "id": "2d20fe59",
   "metadata": {},
   "outputs": [
    {
     "data": {
      "text/plain": [
       "(30139, 15)"
      ]
     },
     "execution_count": 16,
     "metadata": {},
     "output_type": "execute_result"
    }
   ],
   "source": [
    "df.shape"
   ]
  },
  {
   "cell_type": "code",
   "execution_count": 17,
   "id": "fdef5f6d",
   "metadata": {},
   "outputs": [],
   "source": [
    "df.to_csv('adult_0.csv',index=False)"
   ]
  },
  {
   "cell_type": "markdown",
   "id": "9aff46cf",
   "metadata": {},
   "source": [
    "### 数据转换"
   ]
  },
  {
   "cell_type": "code",
   "execution_count": 18,
   "id": "c98b7f08",
   "metadata": {},
   "outputs": [],
   "source": [
    "#!pip install sklearn-pandas"
   ]
  },
  {
   "cell_type": "code",
   "execution_count": 19,
   "id": "77a32d32",
   "metadata": {},
   "outputs": [],
   "source": [
    "from sklearn.preprocessing import OneHotEncoder,MinMaxScaler,StandardScaler\n",
    "from sklearn_pandas import DataFrameMapper"
   ]
  },
  {
   "cell_type": "code",
   "execution_count": 20,
   "id": "a71397b5",
   "metadata": {},
   "outputs": [
    {
     "data": {
      "text/plain": [
       "Index(['age_education_num_hours_per_week_0',\n",
       "       'age_education_num_hours_per_week_1',\n",
       "       'age_education_num_hours_per_week_2',\n",
       "       'fnlwgt_capital_gain_capital_loss_0',\n",
       "       'fnlwgt_capital_gain_capital_loss_1',\n",
       "       'fnlwgt_capital_gain_capital_loss_2'],\n",
       "      dtype='object')"
      ]
     },
     "execution_count": 20,
     "metadata": {},
     "output_type": "execute_result"
    }
   ],
   "source": [
    "mapper = DataFrameMapper([\n",
    "    (['age',  'education_num', 'hours_per_week'], MinMaxScaler()),\n",
    "    (['fnlwgt','capital_gain', 'capital_loss'],StandardScaler()),\n",
    "    (['workclass'],OneHotEncoder()),\n",
    "    (['education'],OneHotEncoder()),\n",
    "    (['marital_status'],OneHotEncoder()),\n",
    "    (['occupation'],OneHotEncoder()),\n",
    "    (['relationship'],OneHotEncoder()),\n",
    "    (['race'],OneHotEncoder()),\n",
    "    (['sex'],OneHotEncoder()),\n",
    "    ( 'native_country',LabelEncoder())\n",
    "], df_out=True) \n",
    "\n",
    "transformed_df = mapper.fit_transform(df)\n",
    "transformed_df.columns[:6]"
   ]
  },
  {
   "cell_type": "code",
   "execution_count": 21,
   "id": "f95ffc59",
   "metadata": {},
   "outputs": [
    {
     "data": {
      "text/plain": [
       "Index(['age_education_num_hours_per_week_0',\n",
       "       'age_education_num_hours_per_week_1',\n",
       "       'age_education_num_hours_per_week_2',\n",
       "       'fnlwgt_capital_gain_capital_loss_0',\n",
       "       'fnlwgt_capital_gain_capital_loss_1',\n",
       "       'fnlwgt_capital_gain_capital_loss_2'],\n",
       "      dtype='object')"
      ]
     },
     "execution_count": 21,
     "metadata": {},
     "output_type": "execute_result"
    }
   ],
   "source": [
    "# transformed_df.columns[:6]"
   ]
  },
  {
   "cell_type": "code",
   "execution_count": 22,
   "id": "93311112",
   "metadata": {},
   "outputs": [
    {
     "data": {
      "text/plain": [
       "Index(['age', 'education_num', 'hours_per_week', 'fnlwgt', 'capital_gain',\n",
       "       'capital_loss', 'workclass_0', 'workclass_1', 'workclass_2',\n",
       "       'workclass_3', 'workclass_4', 'workclass_5', 'workclass_6',\n",
       "       'education_0', 'education_1', 'education_2', 'education_3',\n",
       "       'education_4', 'education_5', 'education_6', 'education_7',\n",
       "       'education_8', 'education_9', 'education_10', 'education_11',\n",
       "       'education_12', 'education_13', 'education_14', 'education_15',\n",
       "       'marital_status_0', 'marital_status_1', 'marital_status_2',\n",
       "       'marital_status_3', 'marital_status_4', 'marital_status_5',\n",
       "       'marital_status_6', 'occupation_0', 'occupation_1', 'occupation_2',\n",
       "       'occupation_3', 'occupation_4', 'occupation_5', 'occupation_6',\n",
       "       'occupation_7', 'occupation_8', 'occupation_9', 'occupation_10',\n",
       "       'occupation_11', 'occupation_12', 'occupation_13', 'relationship_0',\n",
       "       'relationship_1', 'relationship_2', 'relationship_3', 'relationship_4',\n",
       "       'relationship_5', 'race_0', 'race_1', 'race_2', 'race_3', 'race_4',\n",
       "       'sex_0', 'sex_1', 'native_country'],\n",
       "      dtype='object')"
      ]
     },
     "execution_count": 22,
     "metadata": {},
     "output_type": "execute_result"
    }
   ],
   "source": [
    "# 更换列名\n",
    "transformed_df.rename(columns = dict(zip(transformed_df.columns[:6],['age',  'education_num', 'hours_per_week','fnlwgt','capital_gain', 'capital_loss'])),inplace=True)\n",
    "# transformed_df.columns"
   ]
  },
  {
   "cell_type": "code",
   "execution_count": 23,
   "id": "0fd690b4",
   "metadata": {},
   "outputs": [
    {
     "data": {
      "text/html": [
       "<div>\n",
       "<style scoped>\n",
       "    .dataframe tbody tr th:only-of-type {\n",
       "        vertical-align: middle;\n",
       "    }\n",
       "\n",
       "    .dataframe tbody tr th {\n",
       "        vertical-align: top;\n",
       "    }\n",
       "\n",
       "    .dataframe thead th {\n",
       "        text-align: right;\n",
       "    }\n",
       "</style>\n",
       "<table border=\"1\" class=\"dataframe\">\n",
       "  <thead>\n",
       "    <tr style=\"text-align: right;\">\n",
       "      <th></th>\n",
       "      <th>age</th>\n",
       "      <th>education_num</th>\n",
       "      <th>hours_per_week</th>\n",
       "      <th>fnlwgt</th>\n",
       "      <th>capital_gain</th>\n",
       "      <th>capital_loss</th>\n",
       "      <th>workclass_0</th>\n",
       "      <th>workclass_1</th>\n",
       "      <th>workclass_2</th>\n",
       "      <th>workclass_3</th>\n",
       "      <th>...</th>\n",
       "      <th>relationship_4</th>\n",
       "      <th>relationship_5</th>\n",
       "      <th>race_0</th>\n",
       "      <th>race_1</th>\n",
       "      <th>race_2</th>\n",
       "      <th>race_3</th>\n",
       "      <th>race_4</th>\n",
       "      <th>sex_0</th>\n",
       "      <th>sex_1</th>\n",
       "      <th>native_country</th>\n",
       "    </tr>\n",
       "  </thead>\n",
       "  <tbody>\n",
       "    <tr>\n",
       "      <th>0</th>\n",
       "      <td>0.301370</td>\n",
       "      <td>0.800000</td>\n",
       "      <td>0.397959</td>\n",
       "      <td>-1.062676</td>\n",
       "      <td>0.145925</td>\n",
       "      <td>-0.218673</td>\n",
       "      <td>0.0</td>\n",
       "      <td>0.0</td>\n",
       "      <td>0.0</td>\n",
       "      <td>0.0</td>\n",
       "      <td>...</td>\n",
       "      <td>0.0</td>\n",
       "      <td>0.0</td>\n",
       "      <td>0.0</td>\n",
       "      <td>0.0</td>\n",
       "      <td>0.0</td>\n",
       "      <td>0.0</td>\n",
       "      <td>1.0</td>\n",
       "      <td>0.0</td>\n",
       "      <td>1.0</td>\n",
       "      <td>38</td>\n",
       "    </tr>\n",
       "    <tr>\n",
       "      <th>1</th>\n",
       "      <td>0.452055</td>\n",
       "      <td>0.800000</td>\n",
       "      <td>0.122449</td>\n",
       "      <td>-1.007829</td>\n",
       "      <td>-0.147502</td>\n",
       "      <td>-0.218673</td>\n",
       "      <td>0.0</td>\n",
       "      <td>0.0</td>\n",
       "      <td>0.0</td>\n",
       "      <td>0.0</td>\n",
       "      <td>...</td>\n",
       "      <td>0.0</td>\n",
       "      <td>0.0</td>\n",
       "      <td>0.0</td>\n",
       "      <td>0.0</td>\n",
       "      <td>0.0</td>\n",
       "      <td>0.0</td>\n",
       "      <td>1.0</td>\n",
       "      <td>0.0</td>\n",
       "      <td>1.0</td>\n",
       "      <td>38</td>\n",
       "    </tr>\n",
       "    <tr>\n",
       "      <th>2</th>\n",
       "      <td>0.287671</td>\n",
       "      <td>0.533333</td>\n",
       "      <td>0.397959</td>\n",
       "      <td>0.244669</td>\n",
       "      <td>-0.147502</td>\n",
       "      <td>-0.218673</td>\n",
       "      <td>0.0</td>\n",
       "      <td>0.0</td>\n",
       "      <td>1.0</td>\n",
       "      <td>0.0</td>\n",
       "      <td>...</td>\n",
       "      <td>0.0</td>\n",
       "      <td>0.0</td>\n",
       "      <td>0.0</td>\n",
       "      <td>0.0</td>\n",
       "      <td>0.0</td>\n",
       "      <td>0.0</td>\n",
       "      <td>1.0</td>\n",
       "      <td>0.0</td>\n",
       "      <td>1.0</td>\n",
       "      <td>38</td>\n",
       "    </tr>\n",
       "    <tr>\n",
       "      <th>3</th>\n",
       "      <td>0.493151</td>\n",
       "      <td>0.400000</td>\n",
       "      <td>0.397959</td>\n",
       "      <td>0.425206</td>\n",
       "      <td>-0.147502</td>\n",
       "      <td>-0.218673</td>\n",
       "      <td>0.0</td>\n",
       "      <td>0.0</td>\n",
       "      <td>1.0</td>\n",
       "      <td>0.0</td>\n",
       "      <td>...</td>\n",
       "      <td>0.0</td>\n",
       "      <td>0.0</td>\n",
       "      <td>0.0</td>\n",
       "      <td>0.0</td>\n",
       "      <td>1.0</td>\n",
       "      <td>0.0</td>\n",
       "      <td>0.0</td>\n",
       "      <td>0.0</td>\n",
       "      <td>1.0</td>\n",
       "      <td>38</td>\n",
       "    </tr>\n",
       "    <tr>\n",
       "      <th>4</th>\n",
       "      <td>0.150685</td>\n",
       "      <td>0.800000</td>\n",
       "      <td>0.397959</td>\n",
       "      <td>1.406572</td>\n",
       "      <td>-0.147502</td>\n",
       "      <td>-0.218673</td>\n",
       "      <td>0.0</td>\n",
       "      <td>0.0</td>\n",
       "      <td>1.0</td>\n",
       "      <td>0.0</td>\n",
       "      <td>...</td>\n",
       "      <td>0.0</td>\n",
       "      <td>1.0</td>\n",
       "      <td>0.0</td>\n",
       "      <td>0.0</td>\n",
       "      <td>1.0</td>\n",
       "      <td>0.0</td>\n",
       "      <td>0.0</td>\n",
       "      <td>1.0</td>\n",
       "      <td>0.0</td>\n",
       "      <td>4</td>\n",
       "    </tr>\n",
       "    <tr>\n",
       "      <th>...</th>\n",
       "      <td>...</td>\n",
       "      <td>...</td>\n",
       "      <td>...</td>\n",
       "      <td>...</td>\n",
       "      <td>...</td>\n",
       "      <td>...</td>\n",
       "      <td>...</td>\n",
       "      <td>...</td>\n",
       "      <td>...</td>\n",
       "      <td>...</td>\n",
       "      <td>...</td>\n",
       "      <td>...</td>\n",
       "      <td>...</td>\n",
       "      <td>...</td>\n",
       "      <td>...</td>\n",
       "      <td>...</td>\n",
       "      <td>...</td>\n",
       "      <td>...</td>\n",
       "      <td>...</td>\n",
       "      <td>...</td>\n",
       "      <td>...</td>\n",
       "    </tr>\n",
       "    <tr>\n",
       "      <th>32556</th>\n",
       "      <td>0.136986</td>\n",
       "      <td>0.733333</td>\n",
       "      <td>0.377551</td>\n",
       "      <td>0.638926</td>\n",
       "      <td>-0.147502</td>\n",
       "      <td>-0.218673</td>\n",
       "      <td>0.0</td>\n",
       "      <td>0.0</td>\n",
       "      <td>1.0</td>\n",
       "      <td>0.0</td>\n",
       "      <td>...</td>\n",
       "      <td>0.0</td>\n",
       "      <td>1.0</td>\n",
       "      <td>0.0</td>\n",
       "      <td>0.0</td>\n",
       "      <td>0.0</td>\n",
       "      <td>0.0</td>\n",
       "      <td>1.0</td>\n",
       "      <td>1.0</td>\n",
       "      <td>0.0</td>\n",
       "      <td>38</td>\n",
       "    </tr>\n",
       "    <tr>\n",
       "      <th>32557</th>\n",
       "      <td>0.315068</td>\n",
       "      <td>0.533333</td>\n",
       "      <td>0.397959</td>\n",
       "      <td>-0.335246</td>\n",
       "      <td>-0.147502</td>\n",
       "      <td>-0.218673</td>\n",
       "      <td>0.0</td>\n",
       "      <td>0.0</td>\n",
       "      <td>1.0</td>\n",
       "      <td>0.0</td>\n",
       "      <td>...</td>\n",
       "      <td>0.0</td>\n",
       "      <td>0.0</td>\n",
       "      <td>0.0</td>\n",
       "      <td>0.0</td>\n",
       "      <td>0.0</td>\n",
       "      <td>0.0</td>\n",
       "      <td>1.0</td>\n",
       "      <td>0.0</td>\n",
       "      <td>1.0</td>\n",
       "      <td>38</td>\n",
       "    </tr>\n",
       "    <tr>\n",
       "      <th>32558</th>\n",
       "      <td>0.561644</td>\n",
       "      <td>0.533333</td>\n",
       "      <td>0.397959</td>\n",
       "      <td>-0.358567</td>\n",
       "      <td>-0.147502</td>\n",
       "      <td>-0.218673</td>\n",
       "      <td>0.0</td>\n",
       "      <td>0.0</td>\n",
       "      <td>1.0</td>\n",
       "      <td>0.0</td>\n",
       "      <td>...</td>\n",
       "      <td>1.0</td>\n",
       "      <td>0.0</td>\n",
       "      <td>0.0</td>\n",
       "      <td>0.0</td>\n",
       "      <td>0.0</td>\n",
       "      <td>0.0</td>\n",
       "      <td>1.0</td>\n",
       "      <td>1.0</td>\n",
       "      <td>0.0</td>\n",
       "      <td>38</td>\n",
       "    </tr>\n",
       "    <tr>\n",
       "      <th>32559</th>\n",
       "      <td>0.068493</td>\n",
       "      <td>0.533333</td>\n",
       "      <td>0.193878</td>\n",
       "      <td>0.110688</td>\n",
       "      <td>-0.147502</td>\n",
       "      <td>-0.218673</td>\n",
       "      <td>0.0</td>\n",
       "      <td>0.0</td>\n",
       "      <td>1.0</td>\n",
       "      <td>0.0</td>\n",
       "      <td>...</td>\n",
       "      <td>0.0</td>\n",
       "      <td>0.0</td>\n",
       "      <td>0.0</td>\n",
       "      <td>0.0</td>\n",
       "      <td>0.0</td>\n",
       "      <td>0.0</td>\n",
       "      <td>1.0</td>\n",
       "      <td>0.0</td>\n",
       "      <td>1.0</td>\n",
       "      <td>38</td>\n",
       "    </tr>\n",
       "    <tr>\n",
       "      <th>32560</th>\n",
       "      <td>0.479452</td>\n",
       "      <td>0.533333</td>\n",
       "      <td>0.397959</td>\n",
       "      <td>0.928780</td>\n",
       "      <td>1.880305</td>\n",
       "      <td>-0.218673</td>\n",
       "      <td>0.0</td>\n",
       "      <td>0.0</td>\n",
       "      <td>0.0</td>\n",
       "      <td>1.0</td>\n",
       "      <td>...</td>\n",
       "      <td>0.0</td>\n",
       "      <td>1.0</td>\n",
       "      <td>0.0</td>\n",
       "      <td>0.0</td>\n",
       "      <td>0.0</td>\n",
       "      <td>0.0</td>\n",
       "      <td>1.0</td>\n",
       "      <td>1.0</td>\n",
       "      <td>0.0</td>\n",
       "      <td>38</td>\n",
       "    </tr>\n",
       "  </tbody>\n",
       "</table>\n",
       "<p>30139 rows × 64 columns</p>\n",
       "</div>"
      ],
      "text/plain": [
       "            age  education_num  hours_per_week    fnlwgt  capital_gain  \\\n",
       "0      0.301370       0.800000        0.397959 -1.062676      0.145925   \n",
       "1      0.452055       0.800000        0.122449 -1.007829     -0.147502   \n",
       "2      0.287671       0.533333        0.397959  0.244669     -0.147502   \n",
       "3      0.493151       0.400000        0.397959  0.425206     -0.147502   \n",
       "4      0.150685       0.800000        0.397959  1.406572     -0.147502   \n",
       "...         ...            ...             ...       ...           ...   \n",
       "32556  0.136986       0.733333        0.377551  0.638926     -0.147502   \n",
       "32557  0.315068       0.533333        0.397959 -0.335246     -0.147502   \n",
       "32558  0.561644       0.533333        0.397959 -0.358567     -0.147502   \n",
       "32559  0.068493       0.533333        0.193878  0.110688     -0.147502   \n",
       "32560  0.479452       0.533333        0.397959  0.928780      1.880305   \n",
       "\n",
       "       capital_loss  workclass_0  workclass_1  workclass_2  workclass_3  ...  \\\n",
       "0         -0.218673          0.0          0.0          0.0          0.0  ...   \n",
       "1         -0.218673          0.0          0.0          0.0          0.0  ...   \n",
       "2         -0.218673          0.0          0.0          1.0          0.0  ...   \n",
       "3         -0.218673          0.0          0.0          1.0          0.0  ...   \n",
       "4         -0.218673          0.0          0.0          1.0          0.0  ...   \n",
       "...             ...          ...          ...          ...          ...  ...   \n",
       "32556     -0.218673          0.0          0.0          1.0          0.0  ...   \n",
       "32557     -0.218673          0.0          0.0          1.0          0.0  ...   \n",
       "32558     -0.218673          0.0          0.0          1.0          0.0  ...   \n",
       "32559     -0.218673          0.0          0.0          1.0          0.0  ...   \n",
       "32560     -0.218673          0.0          0.0          0.0          1.0  ...   \n",
       "\n",
       "       relationship_4  relationship_5  race_0  race_1  race_2  race_3  race_4  \\\n",
       "0                 0.0             0.0     0.0     0.0     0.0     0.0     1.0   \n",
       "1                 0.0             0.0     0.0     0.0     0.0     0.0     1.0   \n",
       "2                 0.0             0.0     0.0     0.0     0.0     0.0     1.0   \n",
       "3                 0.0             0.0     0.0     0.0     1.0     0.0     0.0   \n",
       "4                 0.0             1.0     0.0     0.0     1.0     0.0     0.0   \n",
       "...               ...             ...     ...     ...     ...     ...     ...   \n",
       "32556             0.0             1.0     0.0     0.0     0.0     0.0     1.0   \n",
       "32557             0.0             0.0     0.0     0.0     0.0     0.0     1.0   \n",
       "32558             1.0             0.0     0.0     0.0     0.0     0.0     1.0   \n",
       "32559             0.0             0.0     0.0     0.0     0.0     0.0     1.0   \n",
       "32560             0.0             1.0     0.0     0.0     0.0     0.0     1.0   \n",
       "\n",
       "       sex_0  sex_1  native_country  \n",
       "0        0.0    1.0              38  \n",
       "1        0.0    1.0              38  \n",
       "2        0.0    1.0              38  \n",
       "3        0.0    1.0              38  \n",
       "4        1.0    0.0               4  \n",
       "...      ...    ...             ...  \n",
       "32556    1.0    0.0              38  \n",
       "32557    0.0    1.0              38  \n",
       "32558    1.0    0.0              38  \n",
       "32559    0.0    1.0              38  \n",
       "32560    1.0    0.0              38  \n",
       "\n",
       "[30139 rows x 64 columns]"
      ]
     },
     "execution_count": 23,
     "metadata": {},
     "output_type": "execute_result"
    }
   ],
   "source": [
    "# transformed_df"
   ]
  },
  {
   "cell_type": "code",
   "execution_count": 24,
   "id": "f4e75053",
   "metadata": {},
   "outputs": [],
   "source": [
    "X = transformed_df.values\n",
    "y = df['income'].values"
   ]
  },
  {
   "cell_type": "code",
   "execution_count": 25,
   "id": "5f5deb4f",
   "metadata": {},
   "outputs": [
    {
     "data": {
      "text/plain": [
       "array([0, 0, 0, ..., 0, 0, 1], dtype=int64)"
      ]
     },
     "execution_count": 25,
     "metadata": {},
     "output_type": "execute_result"
    }
   ],
   "source": [
    "y"
   ]
  },
  {
   "cell_type": "code",
   "execution_count": 26,
   "id": "d140ac3e",
   "metadata": {},
   "outputs": [],
   "source": [
    "import pickle\n",
    "\n",
    "with open('transformed_df.dat','wb') as f:\n",
    "    pickle.dump((X,y),f)  # 存盘"
   ]
  },
  {
   "cell_type": "markdown",
   "id": "3d9532c2",
   "metadata": {},
   "source": [
    "### 数据集拆分"
   ]
  },
  {
   "cell_type": "code",
   "execution_count": 27,
   "id": "a39f3c6a",
   "metadata": {},
   "outputs": [],
   "source": [
    "from sklearn.model_selection import train_test_split\n",
    "# 将数据集分割为训练集与测试集\n",
    "X_train, X_test, y_train, y_test = train_test_split(X, y, test_size=0.2, random_state=0)"
   ]
  },
  {
   "cell_type": "markdown",
   "id": "adf9af79",
   "metadata": {},
   "source": [
    "#### 观察样本数量"
   ]
  },
  {
   "cell_type": "code",
   "execution_count": 28,
   "id": "5f8de45c",
   "metadata": {},
   "outputs": [
    {
     "name": "stdout",
     "output_type": "stream",
     "text": [
      "Number of 0's: 18090\n",
      "Number of 1's: 6021\n"
     ]
    }
   ],
   "source": [
    "count_0 = np.count_nonzero(y_train == 0)\n",
    "count_1 = np.count_nonzero(y_train == 1)\n",
    "\n",
    "# 输出结果\n",
    "print(\"Number of 0's:\", count_0)\n",
    "print(\"Number of 1's:\", count_1)"
   ]
  },
  {
   "cell_type": "code",
   "execution_count": 29,
   "id": "c7f76ba2",
   "metadata": {},
   "outputs": [],
   "source": [
    "#pip install -U imbalanced-learn"
   ]
  },
  {
   "cell_type": "markdown",
   "id": "2f9fe3a3",
   "metadata": {},
   "source": [
    "#### 对训练集重采样"
   ]
  },
  {
   "cell_type": "code",
   "execution_count": 30,
   "id": "e3781c2e",
   "metadata": {},
   "outputs": [],
   "source": [
    "#pip uninstall scikit-learn"
   ]
  },
  {
   "cell_type": "code",
   "execution_count": 31,
   "id": "b0975779",
   "metadata": {},
   "outputs": [],
   "source": [
    "#pip install scikit-learn"
   ]
  },
  {
   "cell_type": "code",
   "execution_count": 32,
   "id": "7e88ba15",
   "metadata": {},
   "outputs": [],
   "source": [
    "from imblearn.over_sampling import RandomOverSampler\n",
    "\n",
    "ros = RandomOverSampler(random_state = 44)\n",
    "X_train_bal, y_train_bal = ros.fit_resample(X_train,y_train)"
   ]
  },
  {
   "cell_type": "code",
   "execution_count": 33,
   "id": "0dfc07d9",
   "metadata": {},
   "outputs": [
    {
     "name": "stdout",
     "output_type": "stream",
     "text": [
      "Number of 0's: 18090\n",
      "Number of 1's: 18090\n"
     ]
    }
   ],
   "source": [
    "count_0 = np.count_nonzero(y_train_bal == 0)\n",
    "count_1 = np.count_nonzero(y_train_bal == 1)\n",
    "\n",
    "# 输出结果\n",
    "print(\"Number of 0's:\", count_0)\n",
    "print(\"Number of 1's:\", count_1)"
   ]
  },
  {
   "cell_type": "markdown",
   "id": "6ba94735",
   "metadata": {},
   "source": [
    "### KFold"
   ]
  },
  {
   "cell_type": "code",
   "execution_count": 34,
   "id": "fabc16ef",
   "metadata": {},
   "outputs": [],
   "source": [
    "# from sklearn.model_selection import KFold\n",
    "\n",
    "# kf = KFold(n_splits=4,shuffle = True,random_state = 44)\n",
    "# accuracy = []\n",
    "\n",
    "# for train_index, validate_index in kf.split(X_train, y_train):\n",
    "#     train_x, train_y = X_train[train_index], y_train[train_index]\n",
    "#     validate_x, validate_y = X_train[validate_index], y_train[validate_index]\n",
    "#     print(\"Train:\", train_x, train_y, \"validate:\", validate_x, validate_y)"
   ]
  },
  {
   "cell_type": "markdown",
   "id": "d9536ee3",
   "metadata": {},
   "source": [
    "### 决策树"
   ]
  },
  {
   "cell_type": "code",
   "execution_count": 50,
   "id": "1374bee8",
   "metadata": {},
   "outputs": [],
   "source": [
    "from sklearn.tree import DecisionTreeClassifier\n",
    "\n",
    "dt = DecisionTreeClassifier(criterion='gini',random_state=25)"
   ]
  },
  {
   "cell_type": "code",
   "execution_count": 72,
   "id": "f36506a1",
   "metadata": {},
   "outputs": [
    {
     "name": "stdout",
     "output_type": "stream",
     "text": [
      "最佳参数组合： {'max_depth': 47}\n",
      "最后得分： 0.9201492537313433\n"
     ]
    }
   ],
   "source": [
    "from sklearn.model_selection import GridSearchCV\n",
    "\n",
    "# 设置参数网格（字典），定义要搜索的参数范围\n",
    "param_grid = {'max_depth':list(range(30,50))\n",
    "             }\n",
    "\n",
    "dt = DecisionTreeClassifier(criterion='gini',random_state=25)\n",
    "# 创建 GridSearchCV 对象\n",
    "grid_search = GridSearchCV(dt, param_grid, cv=5,scoring='accuracy')\n",
    "\n",
    "# 在数据集上进行网格搜索和交叉验证\n",
    "grid_search.fit(X_train_bal, y_train_bal)\n",
    "\n",
    "# 输出最佳参数和最佳模型得分\n",
    "print(\"最佳参数组合：\", grid_search.best_params_)\n",
    "print(\"最后得分：\", grid_search.best_score_)\n",
    "\n",
    "zh = pd.DataFrame(grid_search.cv_results_)\n",
    "zh.to_excel('gs_results.xlsx', index = False)"
   ]
  },
  {
   "cell_type": "code",
   "execution_count": 57,
   "id": "bc919852",
   "metadata": {},
   "outputs": [
    {
     "data": {
      "text/plain": [
       "0.8130391506303916"
      ]
     },
     "execution_count": 57,
     "metadata": {},
     "output_type": "execute_result"
    }
   ],
   "source": [
    "dt = DecisionTreeClassifier(criterion='gini',max_depth = 47,random_state=25)\n",
    "dt.fit(X_train_bal, y_train_bal)\n",
    "dt.score(X_test,y_test)"
   ]
  },
  {
   "cell_type": "markdown",
   "id": "0e369ba2",
   "metadata": {},
   "source": [
    "## 模型评估"
   ]
  },
  {
   "cell_type": "code",
   "execution_count": 75,
   "id": "21087193",
   "metadata": {},
   "outputs": [],
   "source": [
    "from sklearn.metrics import confusion_matrix\n",
    "from sklearn.linear_model import LogisticRegression\n",
    "import warnings\n",
    "warnings.filterwarnings(\"ignore\")\n",
    "\n",
    "clf = LogisticRegression(C=0.5,penalty='l1',solver='saga',tol=0.001)\n",
    "clf.fit(X_train_bal,y_train_bal)\n",
    "\n",
    "y_pred = clf.predict(X_test)"
   ]
  },
  {
   "cell_type": "code",
   "execution_count": 77,
   "id": "303d306b",
   "metadata": {},
   "outputs": [
    {
     "data": {
      "text/plain": [
       "array([[3590,  953],\n",
       "       [ 236, 1249]], dtype=int64)"
      ]
     },
     "execution_count": 77,
     "metadata": {},
     "output_type": "execute_result"
    }
   ],
   "source": [
    "m = confusion_matrix(y_test,y_pred)\n",
    "m"
   ]
  },
  {
   "cell_type": "code",
   "execution_count": null,
   "id": "fbacded3",
   "metadata": {},
   "outputs": [],
   "source": []
  }
 ],
 "metadata": {
  "kernelspec": {
   "display_name": "Python 3 (ipykernel)",
   "language": "python",
   "name": "python3"
  },
  "language_info": {
   "codemirror_mode": {
    "name": "ipython",
    "version": 3
   },
   "file_extension": ".py",
   "mimetype": "text/x-python",
   "name": "python",
   "nbconvert_exporter": "python",
   "pygments_lexer": "ipython3",
   "version": "3.10.9"
  }
 },
 "nbformat": 4,
 "nbformat_minor": 5
}
